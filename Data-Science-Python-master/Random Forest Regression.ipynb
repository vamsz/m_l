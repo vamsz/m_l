{
 "cells": [
  {
   "cell_type": "code",
   "execution_count": 1,
   "metadata": {},
   "outputs": [],
   "source": [
    "# Importing the libraries \n",
    "import numpy as np \n",
    "import matplotlib.pyplot as plt \n",
    "import pandas as pd "
   ]
  },
  {
   "cell_type": "code",
   "execution_count": 2,
   "metadata": {},
   "outputs": [],
   "source": [
    "#import data\n",
    "dataset = pd.read_csv('~/Downloads/Data Science/data set/Company_Data.csv') "
   ]
  },
  {
   "cell_type": "code",
   "execution_count": 3,
   "metadata": {},
   "outputs": [],
   "source": [
    "# seprate categorical and numerical value\n",
    "categorical = [col for col in dataset.columns if dataset[col].dtype==object]\n",
    "numerical = [col for col in dataset.columns if dataset[col].dtype!=object]"
   ]
  },
  {
   "cell_type": "code",
   "execution_count": 4,
   "metadata": {},
   "outputs": [
    {
     "name": "stdout",
     "output_type": "stream",
     "text": [
      "     ShelveLoc  Urban  US\n",
      "0            0      0   0\n",
      "1            1      0   0\n",
      "2            2      0   0\n",
      "3            2      0   0\n",
      "4            0      0   1\n",
      "..         ...    ...  ..\n",
      "395          1      0   0\n",
      "396          2      1   0\n",
      "397          2      0   0\n",
      "398          0      0   0\n",
      "399          1      0   0\n",
      "\n",
      "[400 rows x 3 columns]\n"
     ]
    }
   ],
   "source": [
    "# for convert categorical to int\n",
    "for col in categorical:\n",
    "    temp = {}\n",
    "    count = 0\n",
    "    for val in dataset[col].values:\n",
    "        try:\n",
    "            temp[val]\n",
    "        except:\n",
    "            temp[val] = count\n",
    "            count += 1\n",
    "    dataset[col] = [temp[x] for x in dataset[col].values]\n",
    "print(dataset[categorical])"
   ]
  },
  {
   "cell_type": "code",
   "execution_count": 5,
   "metadata": {},
   "outputs": [],
   "source": [
    "# print the dataset \n",
    "\n",
    "X = dataset.iloc[0:199].values \n",
    "y = dataset.iloc[200:399].values"
   ]
  },
  {
   "cell_type": "code",
   "execution_count": 7,
   "metadata": {},
   "outputs": [
    {
     "data": {
      "text/plain": [
       "RandomForestRegressor(bootstrap=True, ccp_alpha=0.0, criterion='mse',\n",
       "                      max_depth=None, max_features='auto', max_leaf_nodes=None,\n",
       "                      max_samples=None, min_impurity_decrease=0.0,\n",
       "                      min_impurity_split=None, min_samples_leaf=1,\n",
       "                      min_samples_split=2, min_weight_fraction_leaf=0.0,\n",
       "                      n_estimators=100, n_jobs=None, oob_score=False,\n",
       "                      random_state=0, verbose=0, warm_start=False)"
      ]
     },
     "execution_count": 7,
     "metadata": {},
     "output_type": "execute_result"
    }
   ],
   "source": [
    "# Fitting Random Forest Regression to the dataset \n",
    "# import the regressor \n",
    "from sklearn.ensemble import RandomForestRegressor \n",
    "\n",
    "# create regressor object \n",
    "regressor = RandomForestRegressor(n_estimators = 100, random_state = 0) \n",
    "\n",
    "# fit the regressor with x and y data \n",
    "regressor.fit(X, y) "
   ]
  }
 ],
 "metadata": {
  "kernelspec": {
   "display_name": "Python 3",
   "language": "python",
   "name": "python3"
  },
  "language_info": {
   "codemirror_mode": {
    "name": "ipython",
    "version": 3
   },
   "file_extension": ".py",
   "mimetype": "text/x-python",
   "name": "python",
   "nbconvert_exporter": "python",
   "pygments_lexer": "ipython3",
   "version": "3.6.8"
  }
 },
 "nbformat": 4,
 "nbformat_minor": 4
}
